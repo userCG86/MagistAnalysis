{
 "cells": [
  {
   "attachments": {},
   "cell_type": "markdown",
   "id": "52c3061a",
   "metadata": {},
   "source": [
    "Create dummy sales data for Eniac based on:\n",
    "1. Mean sales price of one item\n",
    "2. Revenue\n",
    "\n",
    "This will be used to compare the distribution of prices for tech items sold by the two companies."
   ]
  },
  {
   "cell_type": "code",
   "execution_count": null,
   "id": "a2bd2ddb",
   "metadata": {},
   "outputs": [
    {
     "data": {
      "text/plain": [
       "28146449.638408914"
      ]
     },
     "execution_count": 49,
     "metadata": {},
     "output_type": "execute_result"
    }
   ],
   "source": [
    "import numpy as np\n",
    "from scipy.stats import truncnorm\n",
    "import pandas as pd\n",
    "\n",
    "def make_distribution(mean, std, low, upp):\n",
    "    return truncnorm(\n",
    "        (low - mean) / std, (upp - mean) / std, loc=mean, scale=std)\n",
    "\n",
    "mean = 540 # Average item price by company report\n",
    "lower_b = 0\n",
    "upper_b = 7000\n",
    "rev = 28000000 # Annual revenue by company report is 14,000,000€. \n",
    "                # Amount is doubled to match timeframe of Magist data\n",
    "area_under_curve = .99\n",
    "\n",
    "std_dev = 100 # Reasonable guess\n",
    "dist = make_distribution(mean=mean, std=std_dev, low=lower_b, upp=upper_b)\n",
    "\n",
    "data_sum = 0\n",
    "samp_size = 5000\n",
    "while data_sum < rev:\n",
    "    data = dist.rvs(samp_size)\n",
    "    data_sum = data.sum()\n",
    "    samp_size += 500\n",
    "    \n",
    "data.sum()"
   ]
  },
  {
   "attachments": {},
   "cell_type": "markdown",
   "id": "02c0bc93",
   "metadata": {},
   "source": [
    "To fit into the magist database as read by Tableau, it is necessary to have a relationship.\n",
    "Therefore, dates within the same timeframe as the Magist records are randomly assigned.\n",
    "The dates will not be utilized, but will allow the data to be visualized together."
   ]
  },
  {
   "cell_type": "code",
   "execution_count": 42,
   "id": "946e05be",
   "metadata": {},
   "outputs": [],
   "source": [
    "from datetime import datetime, timedelta\n",
    "import random\n",
    " \n",
    "# initializing dates ranges\n",
    "test_date1, test_date2 = datetime(2016, 9, 5, 12, 0, 0), datetime(2018, 8, 29, 12, 0, 0)\n",
    " \n",
    "K = len(data)\n",
    " \n",
    "# getting days between dates\n",
    "dates_bet = test_date2 - test_date1\n",
    "total_days = dates_bet.days\n",
    " \n",
    "res = []\n",
    "for idx in range(K):\n",
    "    random.seed(a=None)\n",
    "     \n",
    "    # getting random days\n",
    "    randay = random.randrange(total_days)\n",
    "     \n",
    "    # getting random dates\n",
    "    res.append(test_date1 + timedelta(days=randay))\n",
    " "
   ]
  },
  {
   "cell_type": "code",
   "execution_count": 50,
   "id": "89d610df",
   "metadata": {},
   "outputs": [
    {
     "data": {
      "text/html": [
       "<div>\n",
       "<style scoped>\n",
       "    .dataframe tbody tr th:only-of-type {\n",
       "        vertical-align: middle;\n",
       "    }\n",
       "\n",
       "    .dataframe tbody tr th {\n",
       "        vertical-align: top;\n",
       "    }\n",
       "\n",
       "    .dataframe thead th {\n",
       "        text-align: right;\n",
       "    }\n",
       "</style>\n",
       "<table border=\"1\" class=\"dataframe\">\n",
       "  <thead>\n",
       "    <tr style=\"text-align: right;\">\n",
       "      <th></th>\n",
       "      <th>Price</th>\n",
       "      <th>Order_date</th>\n",
       "    </tr>\n",
       "  </thead>\n",
       "  <tbody>\n",
       "    <tr>\n",
       "      <th>43288</th>\n",
       "      <td>446.487597</td>\n",
       "      <td>2017-10-05 12:00:00</td>\n",
       "    </tr>\n",
       "    <tr>\n",
       "      <th>37050</th>\n",
       "      <td>630.653366</td>\n",
       "      <td>2017-05-13 12:00:00</td>\n",
       "    </tr>\n",
       "    <tr>\n",
       "      <th>10333</th>\n",
       "      <td>553.750267</td>\n",
       "      <td>2018-05-10 12:00:00</td>\n",
       "    </tr>\n",
       "    <tr>\n",
       "      <th>10732</th>\n",
       "      <td>443.979274</td>\n",
       "      <td>2016-12-30 12:00:00</td>\n",
       "    </tr>\n",
       "    <tr>\n",
       "      <th>47081</th>\n",
       "      <td>418.984278</td>\n",
       "      <td>2016-10-11 12:00:00</td>\n",
       "    </tr>\n",
       "    <tr>\n",
       "      <th>16481</th>\n",
       "      <td>442.025763</td>\n",
       "      <td>2017-05-09 12:00:00</td>\n",
       "    </tr>\n",
       "    <tr>\n",
       "      <th>23727</th>\n",
       "      <td>552.639008</td>\n",
       "      <td>2018-04-28 12:00:00</td>\n",
       "    </tr>\n",
       "    <tr>\n",
       "      <th>41396</th>\n",
       "      <td>636.179135</td>\n",
       "      <td>2017-09-05 12:00:00</td>\n",
       "    </tr>\n",
       "    <tr>\n",
       "      <th>51738</th>\n",
       "      <td>581.230977</td>\n",
       "      <td>2017-03-27 12:00:00</td>\n",
       "    </tr>\n",
       "    <tr>\n",
       "      <th>33961</th>\n",
       "      <td>477.065472</td>\n",
       "      <td>2018-03-17 12:00:00</td>\n",
       "    </tr>\n",
       "  </tbody>\n",
       "</table>\n",
       "</div>"
      ],
      "text/plain": [
       "            Price          Order_date\n",
       "43288  446.487597 2017-10-05 12:00:00\n",
       "37050  630.653366 2017-05-13 12:00:00\n",
       "10333  553.750267 2018-05-10 12:00:00\n",
       "10732  443.979274 2016-12-30 12:00:00\n",
       "47081  418.984278 2016-10-11 12:00:00\n",
       "16481  442.025763 2017-05-09 12:00:00\n",
       "23727  552.639008 2018-04-28 12:00:00\n",
       "41396  636.179135 2017-09-05 12:00:00\n",
       "51738  581.230977 2017-03-27 12:00:00\n",
       "33961  477.065472 2018-03-17 12:00:00"
      ]
     },
     "execution_count": 50,
     "metadata": {},
     "output_type": "execute_result"
    }
   ],
   "source": [
    "# reviewing constucted data set\n",
    "import pandas as pd\n",
    "data_df = pd.DataFrame({'Price': data, 'Order_date': res})\n",
    "pd.to_datetime(data_df[\"Order_date\"])\n",
    "data_df.sample(10)"
   ]
  },
  {
   "cell_type": "code",
   "execution_count": null,
   "id": "d42a4cdd",
   "metadata": {},
   "outputs": [
    {
     "data": {
      "text/html": [
       "<div>\n",
       "<style scoped>\n",
       "    .dataframe tbody tr th:only-of-type {\n",
       "        vertical-align: middle;\n",
       "    }\n",
       "\n",
       "    .dataframe tbody tr th {\n",
       "        vertical-align: top;\n",
       "    }\n",
       "\n",
       "    .dataframe thead th {\n",
       "        text-align: right;\n",
       "    }\n",
       "</style>\n",
       "<table border=\"1\" class=\"dataframe\">\n",
       "  <thead>\n",
       "    <tr style=\"text-align: right;\">\n",
       "      <th></th>\n",
       "      <th>Price</th>\n",
       "    </tr>\n",
       "  </thead>\n",
       "  <tbody>\n",
       "    <tr>\n",
       "      <th>count</th>\n",
       "      <td>52000.000000</td>\n",
       "    </tr>\n",
       "    <tr>\n",
       "      <th>mean</th>\n",
       "      <td>541.277878</td>\n",
       "    </tr>\n",
       "    <tr>\n",
       "      <th>std</th>\n",
       "      <td>99.564348</td>\n",
       "    </tr>\n",
       "    <tr>\n",
       "      <th>min</th>\n",
       "      <td>108.984070</td>\n",
       "    </tr>\n",
       "    <tr>\n",
       "      <th>25%</th>\n",
       "      <td>474.030045</td>\n",
       "    </tr>\n",
       "    <tr>\n",
       "      <th>50%</th>\n",
       "      <td>541.253592</td>\n",
       "    </tr>\n",
       "    <tr>\n",
       "      <th>75%</th>\n",
       "      <td>609.134796</td>\n",
       "    </tr>\n",
       "    <tr>\n",
       "      <th>max</th>\n",
       "      <td>975.511077</td>\n",
       "    </tr>\n",
       "  </tbody>\n",
       "</table>\n",
       "</div>"
      ],
      "text/plain": [
       "              Price\n",
       "count  52000.000000\n",
       "mean     541.277878\n",
       "std       99.564348\n",
       "min      108.984070\n",
       "25%      474.030045\n",
       "50%      541.253592\n",
       "75%      609.134796\n",
       "max      975.511077"
      ]
     },
     "metadata": {},
     "output_type": "display_data"
    }
   ],
   "source": [
    "data_df.describe()"
   ]
  },
  {
   "cell_type": "code",
   "execution_count": 52,
   "id": "7159e49d",
   "metadata": {},
   "outputs": [],
   "source": [
    "# export data\n",
    "data_df.to_csv(\"./eniac_rev.csv\", index=False)"
   ]
  }
 ],
 "metadata": {
  "kernelspec": {
   "display_name": "Python 3 (ipykernel)",
   "language": "python",
   "name": "python3"
  },
  "language_info": {
   "codemirror_mode": {
    "name": "ipython",
    "version": 3
   },
   "file_extension": ".py",
   "mimetype": "text/x-python",
   "name": "python",
   "nbconvert_exporter": "python",
   "pygments_lexer": "ipython3",
   "version": "3.10.11"
  }
 },
 "nbformat": 4,
 "nbformat_minor": 5
}
